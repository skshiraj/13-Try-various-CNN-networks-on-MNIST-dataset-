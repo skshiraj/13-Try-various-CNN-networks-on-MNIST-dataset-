{
  "nbformat": 4,
  "nbformat_minor": 0,
  "metadata": {
    "colab": {
      "name": "Untitled0.ipynb",
      "version": "0.3.2",
      "provenance": [],
      "collapsed_sections": []
    },
    "kernelspec": {
      "name": "python3",
      "display_name": "Python 3"
    }
  },
  "cells": [
    {
      "cell_type": "code",
      "metadata": {
        "id": "-wiubMeb3h_5",
        "colab_type": "code",
        "colab": {
          "base_uri": "https://localhost:8080/",
          "height": 34
        },
        "outputId": "01ff87d7-5e04-493c-af32-d520ab184906"
      },
      "source": [
        "# Credits: https://github.com/keras-team/keras/blob/master/examples/mnist_cnn.py\n",
        "\n",
        "\n",
        "from __future__ import print_function\n",
        "import keras\n",
        "from keras.datasets import mnist\n",
        "from keras.models import Sequential\n",
        "from keras.layers import Dense, Dropout, Flatten\n",
        "from keras.layers import Conv2D, MaxPooling2D\n",
        "from keras import backend as K"
      ],
      "execution_count": 1,
      "outputs": [
        {
          "output_type": "stream",
          "text": [
            "Using TensorFlow backend.\n"
          ],
          "name": "stderr"
        }
      ]
    },
    {
      "cell_type": "code",
      "metadata": {
        "id": "i74Qtw7y7x0O",
        "colab_type": "code",
        "colab": {}
      },
      "source": [
        "%matplotlib notebook\n",
        "\n",
        "%matplotlib inline\n",
        "import matplotlib.pyplot as plt\n",
        "import numpy as np\n",
        "import time\n",
        "import pylab\n",
        "\n",
        "# https://gist.github.com/greydanus/f6eee59eaf1d90fcb3b534a25362cea4\n",
        "# https://stackoverflow.com/a/14434334\n",
        "# this function is used to update the plots for each epoch and error\n",
        "def plt_dynamic(x, vy, ty, ax, colors=['b']):\n",
        "    ax.plot(x, vy, 'b', label=\"Validation Loss\")\n",
        "    ax.plot(x, ty, 'r', label=\"Train Loss\")\n",
        "    plt.legend()\n",
        "    plt.grid()\n",
        "    plt.show()\n",
        "    pylab.show()\n",
        "    #fig.canvas.draw()"
      ],
      "execution_count": 0,
      "outputs": []
    },
    {
      "cell_type": "code",
      "metadata": {
        "id": "khT1l7TZ7-Pq",
        "colab_type": "code",
        "colab": {}
      },
      "source": [
        "from keras.layers.normalization import BatchNormalization\n",
        "from keras.layers import Dropout"
      ],
      "execution_count": 0,
      "outputs": []
    },
    {
      "cell_type": "code",
      "metadata": {
        "id": "vekoNUBrLDKS",
        "colab_type": "code",
        "colab": {}
      },
      "source": [
        ""
      ],
      "execution_count": 0,
      "outputs": []
    },
    {
      "cell_type": "code",
      "metadata": {
        "id": "0t9bHqFx7zWA",
        "colab_type": "code",
        "colab": {}
      },
      "source": [
        ""
      ],
      "execution_count": 0,
      "outputs": []
    },
    {
      "cell_type": "code",
      "metadata": {
        "id": "UmnajQ-g3qhh",
        "colab_type": "code",
        "colab": {
          "base_uri": "https://localhost:8080/",
          "height": 102
        },
        "outputId": "39c7da4e-4c02-4064-917f-4ab7e1244beb"
      },
      "source": [
        "batch_size = 128\n",
        "num_classes = 10\n",
        "epochs = 12\n",
        "\n",
        "# input image dimensions\n",
        "img_rows, img_cols = 28, 28\n",
        "\n",
        "# the data, split between train and test sets\n",
        "(x_train, y_train), (x_test, y_test) = mnist.load_data()\n",
        "\n",
        "if K.image_data_format() == 'channels_first':\n",
        "    x_train = x_train.reshape(x_train.shape[0], 1, img_rows, img_cols)\n",
        "    x_test = x_test.reshape(x_test.shape[0], 1, img_rows, img_cols)\n",
        "    input_shape = (1, img_rows, img_cols)\n",
        "else:\n",
        "    x_train = x_train.reshape(x_train.shape[0], img_rows, img_cols, 1)\n",
        "    x_test = x_test.reshape(x_test.shape[0], img_rows, img_cols, 1)\n",
        "    input_shape = (img_rows, img_cols, 1)\n",
        "\n",
        "x_train = x_train.astype('float32')\n",
        "x_test = x_test.astype('float32')\n",
        "x_train /= 255\n",
        "x_test /= 255\n",
        "print('x_train shape:', x_train.shape)\n",
        "print(x_train.shape[0], 'train samples')\n",
        "print(x_test.shape[0], 'test samples')\n",
        "\n",
        "# convert class vectors to binary class matrices\n",
        "y_train = keras.utils.to_categorical(y_train, num_classes)\n",
        "y_test = keras.utils.to_categorical(y_test, num_classes)"
      ],
      "execution_count": 2,
      "outputs": [
        {
          "output_type": "stream",
          "text": [
            "Downloading data from https://s3.amazonaws.com/img-datasets/mnist.npz\n",
            "11493376/11490434 [==============================] - 1s 0us/step\n",
            "x_train shape: (60000, 28, 28, 1)\n",
            "60000 train samples\n",
            "10000 test samples\n"
          ],
          "name": "stdout"
        }
      ]
    },
    {
      "cell_type": "markdown",
      "metadata": {
        "id": "HL9kj7KA4a4z",
        "colab_type": "text"
      },
      "source": [
        "**3 CONVOLUTION LAYER**"
      ]
    },
    {
      "cell_type": "code",
      "metadata": {
        "id": "0ENchJE63zZT",
        "colab_type": "code",
        "colab": {
          "base_uri": "https://localhost:8080/",
          "height": 408
        },
        "outputId": "caa085de-a6b4-466a-a89e-69e057f368d1"
      },
      "source": [
        "model = Sequential()\n",
        "model.add(Conv2D(100, kernel_size=(5, 5),\n",
        "                 activation='relu',\n",
        "                 input_shape=input_shape))\n",
        "model.add(Conv2D(64, (3, 3), activation='relu'))\n",
        "model.add(MaxPooling2D(pool_size=(2, 2)))\n",
        "model.add(Dropout(0.25))\n",
        "model.add(Flatten())\n",
        "model.add(Dense(128, activation='relu'))\n",
        "model.add(Dropout(0.25))\n",
        "model.add(Dense(num_classes, activation='softmax'))\n",
        "model.summary()"
      ],
      "execution_count": 4,
      "outputs": [
        {
          "output_type": "stream",
          "text": [
            "_________________________________________________________________\n",
            "Layer (type)                 Output Shape              Param #   \n",
            "=================================================================\n",
            "conv2d_3 (Conv2D)            (None, 24, 24, 100)       2600      \n",
            "_________________________________________________________________\n",
            "conv2d_4 (Conv2D)            (None, 22, 22, 64)        57664     \n",
            "_________________________________________________________________\n",
            "max_pooling2d_2 (MaxPooling2 (None, 11, 11, 64)        0         \n",
            "_________________________________________________________________\n",
            "dropout_3 (Dropout)          (None, 11, 11, 64)        0         \n",
            "_________________________________________________________________\n",
            "flatten_2 (Flatten)          (None, 7744)              0         \n",
            "_________________________________________________________________\n",
            "dense_3 (Dense)              (None, 128)               991360    \n",
            "_________________________________________________________________\n",
            "dropout_4 (Dropout)          (None, 128)               0         \n",
            "_________________________________________________________________\n",
            "dense_4 (Dense)              (None, 10)                1290      \n",
            "=================================================================\n",
            "Total params: 1,052,914\n",
            "Trainable params: 1,052,914\n",
            "Non-trainable params: 0\n",
            "_________________________________________________________________\n"
          ],
          "name": "stdout"
        }
      ]
    },
    {
      "cell_type": "code",
      "metadata": {
        "id": "qd3MONgf48ts",
        "colab_type": "code",
        "colab": {
          "base_uri": "https://localhost:8080/",
          "height": 105
        },
        "outputId": "e6ca593d-061a-4628-d7be-9d94d5bd11f6"
      },
      "source": [
        "model.compile(loss=keras.losses.categorical_crossentropy,\n",
        "              optimizer=keras.optimizers.Adadelta(),\n",
        "              metrics=['accuracy'])"
      ],
      "execution_count": 5,
      "outputs": [
        {
          "output_type": "stream",
          "text": [
            "W0622 15:53:00.388287 140437071800192 deprecation_wrapper.py:119] From /usr/local/lib/python3.6/dist-packages/keras/optimizers.py:790: The name tf.train.Optimizer is deprecated. Please use tf.compat.v1.train.Optimizer instead.\n",
            "\n",
            "W0622 15:53:00.401283 140437071800192 deprecation_wrapper.py:119] From /usr/local/lib/python3.6/dist-packages/keras/backend/tensorflow_backend.py:3295: The name tf.log is deprecated. Please use tf.math.log instead.\n",
            "\n"
          ],
          "name": "stderr"
        }
      ]
    },
    {
      "cell_type": "code",
      "metadata": {
        "id": "kIcttH-Y5Bsy",
        "colab_type": "code",
        "colab": {
          "base_uri": "https://localhost:8080/",
          "height": 547
        },
        "outputId": "7578f186-f2ae-401d-9a97-738ff2c1b486"
      },
      "source": [
        "history = model.fit(x_train, y_train,\n",
        "          batch_size=batch_size,\n",
        "          epochs=epochs,\n",
        "          verbose=1,\n",
        "          validation_data=(x_test, y_test))\n",
        "score = model.evaluate(x_test, y_test, verbose=0)\n",
        "print('Test loss:', score[0])\n",
        "print('Test accuracy:', score[1])"
      ],
      "execution_count": 6,
      "outputs": [
        {
          "output_type": "stream",
          "text": [
            "W0622 15:53:27.780707 140437071800192 deprecation.py:323] From /usr/local/lib/python3.6/dist-packages/tensorflow/python/ops/math_grad.py:1250: add_dispatch_support.<locals>.wrapper (from tensorflow.python.ops.array_ops) is deprecated and will be removed in a future version.\n",
            "Instructions for updating:\n",
            "Use tf.where in 2.0, which has the same broadcast rule as np.where\n"
          ],
          "name": "stderr"
        },
        {
          "output_type": "stream",
          "text": [
            "Train on 60000 samples, validate on 10000 samples\n",
            "Epoch 1/12\n",
            "60000/60000 [==============================] - 334s 6ms/step - loss: 0.1996 - acc: 0.9381 - val_loss: 0.0509 - val_acc: 0.9828\n",
            "Epoch 2/12\n",
            "60000/60000 [==============================] - 332s 6ms/step - loss: 0.0589 - acc: 0.9820 - val_loss: 0.0337 - val_acc: 0.9881\n",
            "Epoch 3/12\n",
            "60000/60000 [==============================] - 332s 6ms/step - loss: 0.0440 - acc: 0.9867 - val_loss: 0.0328 - val_acc: 0.9895\n",
            "Epoch 4/12\n",
            "60000/60000 [==============================] - 332s 6ms/step - loss: 0.0347 - acc: 0.9893 - val_loss: 0.0396 - val_acc: 0.9857\n",
            "Epoch 5/12\n",
            "60000/60000 [==============================] - 332s 6ms/step - loss: 0.0288 - acc: 0.9912 - val_loss: 0.0258 - val_acc: 0.9918\n",
            "Epoch 6/12\n",
            "60000/60000 [==============================] - 332s 6ms/step - loss: 0.0243 - acc: 0.9923 - val_loss: 0.0251 - val_acc: 0.9913\n",
            "Epoch 7/12\n",
            "60000/60000 [==============================] - 332s 6ms/step - loss: 0.0218 - acc: 0.9928 - val_loss: 0.0257 - val_acc: 0.9911\n",
            "Epoch 8/12\n",
            "60000/60000 [==============================] - 332s 6ms/step - loss: 0.0184 - acc: 0.9938 - val_loss: 0.0238 - val_acc: 0.9929\n",
            "Epoch 9/12\n",
            "60000/60000 [==============================] - 332s 6ms/step - loss: 0.0164 - acc: 0.9947 - val_loss: 0.0223 - val_acc: 0.9933\n",
            "Epoch 10/12\n",
            "60000/60000 [==============================] - 332s 6ms/step - loss: 0.0140 - acc: 0.9953 - val_loss: 0.0250 - val_acc: 0.9928\n",
            "Epoch 11/12\n",
            "60000/60000 [==============================] - 333s 6ms/step - loss: 0.0129 - acc: 0.9959 - val_loss: 0.0223 - val_acc: 0.9934\n",
            "Epoch 12/12\n",
            "60000/60000 [==============================] - 331s 6ms/step - loss: 0.0113 - acc: 0.9966 - val_loss: 0.0271 - val_acc: 0.9919\n",
            "Test loss: 0.027147230633624533\n",
            "Test accuracy: 0.9919\n"
          ],
          "name": "stdout"
        }
      ]
    },
    {
      "cell_type": "code",
      "metadata": {
        "id": "Sw1ppcf_LGbQ",
        "colab_type": "code",
        "colab": {
          "base_uri": "https://localhost:8080/",
          "height": 283
        },
        "outputId": "4a953f4f-f848-49aa-a042-9312959866c3"
      },
      "source": [
        "fig,ax = plt.subplots(1,1)\n",
        "ax.set_xlabel('epoch') ; ax.set_ylabel('Categorical Crossentropy Loss')\n",
        "x = list(range(1,epochs+1))\n",
        "vy = history.history['val_loss']\n",
        "ty = history.history['loss']\n",
        "plt_dynamic(x, vy, ty, ax)"
      ],
      "execution_count": 15,
      "outputs": [
        {
          "output_type": "display_data",
          "data": {
            "image/png": "[encoded data removed]",
            "text/plain": [
              "<Figure size 432x288 with 1 Axes>"
            ]
          },
          "metadata": {
            "tags": []
          }
        }
      ]
    },
    {
      "cell_type": "markdown",
      "metadata": {
        "id": "dL7XrH0142jD",
        "colab_type": "text"
      },
      "source": [
        "**5 CONVOLUTION LAYER**"
      ]
    },
    {
      "cell_type": "code",
      "metadata": {
        "id": "CMolZv5HMd47",
        "colab_type": "code",
        "colab": {
          "base_uri": "https://localhost:8080/",
          "height": 598
        },
        "outputId": "e0cde9b2-29a1-40f2-eadb-51a8aa5b923e"
      },
      "source": [
        "model1 = Sequential()\n",
        "model1.add(Conv2D(100, kernel_size=(5, 5),\n",
        "                 activation='relu',\n",
        "                 input_shape=input_shape))\n",
        "model1.add(Conv2D(64, (4, 4), activation='relu'))\n",
        "model1.add(MaxPooling2D(pool_size=(2, 2)))\n",
        "model1.add(Dropout(0.25))\n",
        "model1.add(Conv2D(42, (3, 3), activation='relu'))\n",
        "model1.add(MaxPooling2D(pool_size=(2, 2)))\n",
        "model1.add(BatchNormalization())\n",
        "model1.add(Conv2D(30, (2, 2), activation='relu'))\n",
        "model1.add(Flatten())\n",
        "model1.add(Dense(128, activation='relu'))\n",
        "model1.add(Dropout(0.25))\n",
        "model1.add(Dense(num_classes, activation='softmax'))\n",
        "model1.summary()"
      ],
      "execution_count": 16,
      "outputs": [
        {
          "output_type": "stream",
          "text": [
            "W0622 17:21:45.065067 140437071800192 deprecation_wrapper.py:119] From /usr/local/lib/python3.6/dist-packages/keras/backend/tensorflow_backend.py:1834: The name tf.nn.fused_batch_norm is deprecated. Please use tf.compat.v1.nn.fused_batch_norm instead.\n",
            "\n"
          ],
          "name": "stderr"
        },
        {
          "output_type": "stream",
          "text": [
            "_________________________________________________________________\n",
            "Layer (type)                 Output Shape              Param #   \n",
            "=================================================================\n",
            "conv2d_5 (Conv2D)            (None, 24, 24, 100)       2600      \n",
            "_________________________________________________________________\n",
            "conv2d_6 (Conv2D)            (None, 21, 21, 64)        102464    \n",
            "_________________________________________________________________\n",
            "max_pooling2d_3 (MaxPooling2 (None, 10, 10, 64)        0         \n",
            "_________________________________________________________________\n",
            "dropout_5 (Dropout)          (None, 10, 10, 64)        0         \n",
            "_________________________________________________________________\n",
            "conv2d_7 (Conv2D)            (None, 8, 8, 42)          24234     \n",
            "_________________________________________________________________\n",
            "max_pooling2d_4 (MaxPooling2 (None, 4, 4, 42)          0         \n",
            "_________________________________________________________________\n",
            "batch_normalization_1 (Batch (None, 4, 4, 42)          168       \n",
            "_________________________________________________________________\n",
            "conv2d_8 (Conv2D)            (None, 3, 3, 30)          5070      \n",
            "_________________________________________________________________\n",
            "flatten_3 (Flatten)          (None, 270)               0         \n",
            "_________________________________________________________________\n",
            "dense_5 (Dense)              (None, 128)               34688     \n",
            "_________________________________________________________________\n",
            "dropout_6 (Dropout)          (None, 128)               0         \n",
            "_________________________________________________________________\n",
            "dense_6 (Dense)              (None, 10)                1290      \n",
            "=================================================================\n",
            "Total params: 170,514\n",
            "Trainable params: 170,430\n",
            "Non-trainable params: 84\n",
            "_________________________________________________________________\n"
          ],
          "name": "stdout"
        }
      ]
    },
    {
      "cell_type": "code",
      "metadata": {
        "id": "ZxpId7eSNWsS",
        "colab_type": "code",
        "colab": {}
      },
      "source": [
        "model1.compile(loss=keras.losses.categorical_crossentropy,\n",
        "              optimizer=keras.optimizers.Adadelta(),\n",
        "              metrics=['accuracy'])"
      ],
      "execution_count": 0,
      "outputs": []
    },
    {
      "cell_type": "code",
      "metadata": {
        "id": "d0N6NCZtNnG2",
        "colab_type": "code",
        "colab": {
          "base_uri": "https://localhost:8080/",
          "height": 476
        },
        "outputId": "85c12043-6f78-4c6c-c606-0e489ca65685"
      },
      "source": [
        "history1 = model1.fit(x_train, y_train,\n",
        "          batch_size=batch_size,\n",
        "          epochs=epochs,\n",
        "          verbose=1,\n",
        "          validation_data=(x_test, y_test))\n",
        "score = model1.evaluate(x_test, y_test, verbose=0)\n",
        "print('Test loss:', score[0])\n",
        "print('Test accuracy:', score[1])"
      ],
      "execution_count": 19,
      "outputs": [
        {
          "output_type": "stream",
          "text": [
            "Train on 60000 samples, validate on 10000 samples\n",
            "Epoch 1/12\n",
            "60000/60000 [==============================] - 501s 8ms/step - loss: 0.1747 - acc: 0.9460 - val_loss: 0.0539 - val_acc: 0.9840\n",
            "Epoch 2/12\n",
            "60000/60000 [==============================] - 501s 8ms/step - loss: 0.0548 - acc: 0.9837 - val_loss: 0.0393 - val_acc: 0.9865\n",
            "Epoch 3/12\n",
            "60000/60000 [==============================] - 501s 8ms/step - loss: 0.0407 - acc: 0.9875 - val_loss: 0.0269 - val_acc: 0.9916\n",
            "Epoch 4/12\n",
            "60000/60000 [==============================] - 502s 8ms/step - loss: 0.0340 - acc: 0.9892 - val_loss: 0.0242 - val_acc: 0.9923\n",
            "Epoch 5/12\n",
            "60000/60000 [==============================] - 501s 8ms/step - loss: 0.0285 - acc: 0.9913 - val_loss: 0.0221 - val_acc: 0.9925\n",
            "Epoch 6/12\n",
            "60000/60000 [==============================] - 500s 8ms/step - loss: 0.0250 - acc: 0.9923 - val_loss: 0.0265 - val_acc: 0.9907\n",
            "Epoch 7/12\n",
            "60000/60000 [==============================] - 502s 8ms/step - loss: 0.0224 - acc: 0.9932 - val_loss: 0.0213 - val_acc: 0.9937\n",
            "Epoch 8/12\n",
            "60000/60000 [==============================] - 501s 8ms/step - loss: 0.0195 - acc: 0.9940 - val_loss: 0.0210 - val_acc: 0.9934\n",
            "Epoch 9/12\n",
            "60000/60000 [==============================] - 500s 8ms/step - loss: 0.0178 - acc: 0.9942 - val_loss: 0.0215 - val_acc: 0.9936\n",
            "Epoch 10/12\n",
            "60000/60000 [==============================] - 502s 8ms/step - loss: 0.0156 - acc: 0.9952 - val_loss: 0.0269 - val_acc: 0.9916\n",
            "Epoch 11/12\n",
            "60000/60000 [==============================] - 503s 8ms/step - loss: 0.0154 - acc: 0.9953 - val_loss: 0.0197 - val_acc: 0.9940\n",
            "Epoch 12/12\n",
            "60000/60000 [==============================] - 503s 8ms/step - loss: 0.0134 - acc: 0.9959 - val_loss: 0.0218 - val_acc: 0.9938\n",
            "Test loss: 0.021787987656591713\n",
            "Test accuracy: 0.9938\n"
          ],
          "name": "stdout"
        }
      ]
    },
    {
      "cell_type": "code",
      "metadata": {
        "id": "c4fqNJvgOFZr",
        "colab_type": "code",
        "colab": {
          "base_uri": "https://localhost:8080/",
          "height": 283
        },
        "outputId": "ce9a4728-0821-40c9-940c-ded1233993ea"
      },
      "source": [
        "fig,ax = plt.subplots(1,1)\n",
        "ax.set_xlabel('epoch') ; ax.set_ylabel('Categorical Crossentropy Loss')\n",
        "x = list(range(1,epochs+1))\n",
        "vy = history1.history['val_loss']\n",
        "ty = history1.history['loss']\n",
        "plt_dynamic(x, vy, ty, ax)"
      ],
      "execution_count": 20,
      "outputs": [
        {
          "output_type": "display_data",
          "data": {
            "image/png": "[encoded data removed]",
            "text/plain": [
              "<Figure size 432x288 with 1 Axes>"
            ]
          },
          "metadata": {
            "tags": []
          }
        }
      ]
    },
    {
      "cell_type": "markdown",
      "metadata": {
        "id": "cF3W9H5OPI3Z",
        "colab_type": "text"
      },
      "source": [
        "**7 LAYER CNN**"
      ]
    },
    {
      "cell_type": "code",
      "metadata": {
        "id": "wZNAtYz3Oei6",
        "colab_type": "code",
        "colab": {
          "base_uri": "https://localhost:8080/",
          "height": 680
        },
        "outputId": "c00ea26b-4bf7-4eef-88ba-2178328a6303"
      },
      "source": [
        "model2 = Sequential()\n",
        "model2.add(Conv2D(100, kernel_size=(8, 8),\n",
        "                 activation='relu',\n",
        "                 input_shape=input_shape))\n",
        "model2.add(Conv2D(90, (7, 7), activation='relu'))\n",
        "#model2.add(MaxPooling2D(pool_size=(5, 5)))\n",
        "model2.add(Dropout(0.25))\n",
        "model2.add(Conv2D(80, (6, 6), activation='relu'))\n",
        "#model2.add(MaxPooling2D(pool_size=(3, 3)))\n",
        "model2.add(BatchNormalization())\n",
        "model2.add(Conv2D(30, (4, 4), activation='relu'))\n",
        "#model2.add(MaxPooling2D(pool_size=(2, 2)))\n",
        "model2.add(Conv2D(25, (3, 3), activation='relu'))\n",
        "model2.add(Dropout(0.1))\n",
        "model2.add(BatchNormalization())\n",
        "model2.add(Conv2D(20, (2, 2), activation='relu'))\n",
        "model2.add(Dropout(0.15))\n",
        "model2.add(BatchNormalization())\n",
        "model2.add(Flatten())\n",
        "model2.add(Dense(128, activation='relu'))\n",
        "model2.add(Dropout(0.25))\n",
        "model2.add(Dense(num_classes, activation='softmax'))\n",
        "model2.summary()"
      ],
      "execution_count": 35,
      "outputs": [
        {
          "output_type": "stream",
          "text": [
            "_________________________________________________________________\n",
            "Layer (type)                 Output Shape              Param #   \n",
            "=================================================================\n",
            "conv2d_62 (Conv2D)           (None, 21, 21, 100)       6500      \n",
            "_________________________________________________________________\n",
            "conv2d_63 (Conv2D)           (None, 15, 15, 90)        441090    \n",
            "_________________________________________________________________\n",
            "dropout_28 (Dropout)         (None, 15, 15, 90)        0         \n",
            "_________________________________________________________________\n",
            "conv2d_64 (Conv2D)           (None, 10, 10, 80)        259280    \n",
            "_________________________________________________________________\n",
            "batch_normalization_15 (Batc (None, 10, 10, 80)        320       \n",
            "_________________________________________________________________\n",
            "conv2d_65 (Conv2D)           (None, 7, 7, 30)          38430     \n",
            "_________________________________________________________________\n",
            "conv2d_66 (Conv2D)           (None, 5, 5, 25)          6775      \n",
            "_________________________________________________________________\n",
            "dropout_29 (Dropout)         (None, 5, 5, 25)          0         \n",
            "_________________________________________________________________\n",
            "batch_normalization_16 (Batc (None, 5, 5, 25)          100       \n",
            "_________________________________________________________________\n",
            "conv2d_67 (Conv2D)           (None, 4, 4, 20)          2020      \n",
            "_________________________________________________________________\n",
            "dropout_30 (Dropout)         (None, 4, 4, 20)          0         \n",
            "_________________________________________________________________\n",
            "batch_normalization_17 (Batc (None, 4, 4, 20)          80        \n",
            "_________________________________________________________________\n",
            "flatten_8 (Flatten)          (None, 320)               0         \n",
            "_________________________________________________________________\n",
            "dense_15 (Dense)             (None, 128)               41088     \n",
            "_________________________________________________________________\n",
            "dropout_31 (Dropout)         (None, 128)               0         \n",
            "_________________________________________________________________\n",
            "dense_16 (Dense)             (None, 10)                1290      \n",
            "=================================================================\n",
            "Total params: 796,973\n",
            "Trainable params: 796,723\n",
            "Non-trainable params: 250\n",
            "_________________________________________________________________\n"
          ],
          "name": "stdout"
        }
      ]
    },
    {
      "cell_type": "code",
      "metadata": {
        "id": "ep_1xDPkQ0Rm",
        "colab_type": "code",
        "colab": {}
      },
      "source": [
        "model2.compile(loss=keras.losses.categorical_crossentropy,\n",
        "              optimizer=keras.optimizers.Adadelta(),\n",
        "              metrics=['accuracy'])"
      ],
      "execution_count": 0,
      "outputs": []
    },
    {
      "cell_type": "code",
      "metadata": {
        "id": "s18HGbtqQ1Qf",
        "colab_type": "code",
        "colab": {
          "base_uri": "https://localhost:8080/",
          "height": 476
        },
        "outputId": "77ee51a9-46ab-4e26-e97d-35e8dd1dc36e"
      },
      "source": [
        "history2 = model2.fit(x_train, y_train,\n",
        "          batch_size=batch_size,\n",
        "          epochs=epochs,\n",
        "          verbose=1,\n",
        "          validation_data=(x_test, y_test))\n",
        "score = model2.evaluate(x_test, y_test, verbose=0)\n",
        "print('Test loss:', score[0])\n",
        "print('Test accuracy:', score[1])"
      ],
      "execution_count": 37,
      "outputs": [
        {
          "output_type": "stream",
          "text": [
            "Train on 60000 samples, validate on 10000 samples\n",
            "Epoch 1/12\n",
            "60000/60000 [==============================] - 1308s 22ms/step - loss: 0.3361 - acc: 0.8950 - val_loss: 0.1625 - val_acc: 0.9509\n",
            "Epoch 2/12\n",
            "60000/60000 [==============================] - 1311s 22ms/step - loss: 0.0929 - acc: 0.9732 - val_loss: 0.0592 - val_acc: 0.9828\n",
            "Epoch 3/12\n",
            "60000/60000 [==============================] - 1310s 22ms/step - loss: 0.0641 - acc: 0.9817 - val_loss: 0.0533 - val_acc: 0.9845\n",
            "Epoch 4/12\n",
            "60000/60000 [==============================] - 1310s 22ms/step - loss: 0.0506 - acc: 0.9850 - val_loss: 0.0480 - val_acc: 0.9861\n",
            "Epoch 5/12\n",
            "60000/60000 [==============================] - 1311s 22ms/step - loss: 0.0416 - acc: 0.9884 - val_loss: 0.0384 - val_acc: 0.9881\n",
            "Epoch 6/12\n",
            "60000/60000 [==============================] - 1314s 22ms/step - loss: 0.0371 - acc: 0.9893 - val_loss: 0.0512 - val_acc: 0.9840\n",
            "Epoch 7/12\n",
            "60000/60000 [==============================] - 1317s 22ms/step - loss: 0.0341 - acc: 0.9903 - val_loss: 0.0329 - val_acc: 0.9895\n",
            "Epoch 8/12\n",
            "60000/60000 [==============================] - 1328s 22ms/step - loss: 0.0291 - acc: 0.9914 - val_loss: 0.0430 - val_acc: 0.9869\n",
            "Epoch 9/12\n",
            "60000/60000 [==============================] - 1334s 22ms/step - loss: 0.0246 - acc: 0.9921 - val_loss: 0.0305 - val_acc: 0.9917\n",
            "Epoch 10/12\n",
            "60000/60000 [==============================] - 1329s 22ms/step - loss: 0.0249 - acc: 0.9928 - val_loss: 0.0440 - val_acc: 0.9882\n",
            "Epoch 11/12\n",
            "60000/60000 [==============================] - 1333s 22ms/step - loss: 0.0230 - acc: 0.9936 - val_loss: 0.0314 - val_acc: 0.9903\n",
            "Epoch 12/12\n",
            "60000/60000 [==============================] - 1333s 22ms/step - loss: 0.0220 - acc: 0.9938 - val_loss: 0.0280 - val_acc: 0.9920\n",
            "Test loss: 0.028006677371503655\n",
            "Test accuracy: 0.992\n"
          ],
          "name": "stdout"
        }
      ]
    },
    {
      "cell_type": "code",
      "metadata": {
        "id": "gLX7cPU4RfAq",
        "colab_type": "code",
        "colab": {
          "base_uri": "https://localhost:8080/",
          "height": 283
        },
        "outputId": "86231e7e-9e78-4512-adf8-fe2120040e01"
      },
      "source": [
        "fig,ax = plt.subplots(1,1)\n",
        "ax.set_xlabel('epoch') ; ax.set_ylabel('Categorical Crossentropy Loss')\n",
        "x = list(range(1,epochs+1))\n",
        "vy = history2.history['val_loss']\n",
        "ty = history2.history['loss']\n",
        "plt_dynamic(x, vy, ty, ax)"
      ],
      "execution_count": 38,
      "outputs": [
        {
          "output_type": "display_data",
          "data": {
            "image/png": "[encoded data removed]",
            "text/plain": [
              "<Figure size 432x288 with 1 Axes>"
            ]
          },
          "metadata": {
            "tags": []
          }
        }
      ]
    },
    {
      "cell_type": "markdown",
      "metadata": {
        "id": "_o_1UM1_QxNF",
        "colab_type": "text"
      },
      "source": [
        "**SUMMARY**"
      ]
    },
    {
      "cell_type": "code",
      "metadata": {
        "id": "NkcrGI0xQyIJ",
        "colab_type": "code",
        "colab": {
          "base_uri": "https://localhost:8080/",
          "height": 136
        },
        "outputId": "c1ef6d9d-c44f-4313-95f7-eef246fafeb8"
      },
      "source": [
        "from prettytable import PrettyTable\n",
        "    \n",
        "x = PrettyTable()\n",
        "\n",
        "x.field_names = [\"NO OF HIDDEN LAYERS\", \"TEST ACCURACY\"]\n",
        "\n",
        "x.add_row([3,0.9919])\n",
        "x.add_row([5,0.9938])\n",
        "\n",
        "x.add_row([7,0.992])\n",
        "\n",
        "print(x)"
      ],
      "execution_count": 1,
      "outputs": [
        {
          "output_type": "stream",
          "text": [
            "+---------------------+---------------+\n",
            "| NO OF HIDDEN LAYERS | TEST ACCURACY |\n",
            "+---------------------+---------------+\n",
            "|          3          |     0.9919    |\n",
            "|          5          |     0.9938    |\n",
            "|          7          |     0.992     |\n",
            "+---------------------+---------------+\n"
          ],
          "name": "stdout"
        }
      ]
    }
  ]
}